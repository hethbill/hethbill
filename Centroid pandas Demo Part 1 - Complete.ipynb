{
 "cells": [
  {
   "cell_type": "markdown",
   "metadata": {},
   "source": [
    "## Simple pandas demo, Part 1\n",
    "\n",
    "#### In this demo we will:\n",
    "1. Access CSV files from a local directory\n",
    "2. Report the data and columns\n",
    "3. Return some simple statistics from a column with describe()\n",
    "4. Calculate the average of 3 columns' data, return into new field\n",
    "5. Save the updated CSV as a new file\n",
    "\n",
    "\n",
    "Created by Elizabeth Tulanowski, GIS Instructor + Geospatial Centroid Education Coordinator, Colorado State University\n"
   ]
  },
  {
   "cell_type": "markdown",
   "metadata": {},
   "source": [
    "#### 1. Access a CSV file using pandas"
   ]
  },
  {
   "cell_type": "code",
   "execution_count": 2,
   "metadata": {},
   "outputs": [
    {
     "name": "stdout",
     "output_type": "stream",
     "text": [
      "Data frame for C:\\Student\\PrecipGaugeData.csv has been created.\n"
     ]
    }
   ],
   "source": [
    "# import libraries\n",
    "import pandas as pd, os\n",
    "\n",
    "# paths to data\n",
    "path = r\"C:\\Student\"\n",
    "file = r\"PrecipGaugeData.csv\"\n",
    "data = os.path.join(path,file)\n",
    "\n",
    "# Read the CSV\n",
    "df = pd.read_csv(os.path.join(path,file))\n",
    "\n",
    "print (f\"Data frame for {data} has been created.\")"
   ]
  },
  {
   "cell_type": "markdown",
   "metadata": {},
   "source": [
    "#### 2. Report the data and columns\n"
   ]
  },
  {
   "cell_type": "code",
   "execution_count": 19,
   "metadata": {},
   "outputs": [
    {
     "name": "stdout",
     "output_type": "stream",
     "text": [
      "   Station  UTM_N_83  UTM_E_83  2017_Session1  2017_Session2  2017_Session3  \\\n",
      "0        1   4490823    449749          23.99           0.94          38.29   \n",
      "1        2   4490711    449820          14.40           0.54          29.82   \n",
      "2        3   4490701    449981          28.50           0.44          35.45   \n",
      "3        4   4490817    450010          22.63           1.04          33.07   \n",
      "4        5   4490897    450077          26.71           1.45          31.49   \n",
      "\n",
      "   AvgPrecip  \n",
      "0  21.073333  \n",
      "1  14.920000  \n",
      "2  21.463333  \n",
      "3  18.913333  \n",
      "4  19.883333  \n",
      "Station\n",
      "UTM_N_83\n",
      "UTM_E_83\n",
      "2017_Session1\n",
      "2017_Session2\n",
      "2017_Session3\n",
      "AvgPrecip\n",
      "['Station', 'UTM_N_83', 'UTM_E_83', '2017_Session1', '2017_Session2', '2017_Session3', 'AvgPrecip']\n",
      "\n"
     ]
    }
   ],
   "source": [
    "# print first 5 rows\n",
    "print (df.head())\n",
    "\n",
    "\n",
    "# List the column names (https://www.geeksforgeeks.org/how-to-get-column-names-in-pandas-dataframe/)\n",
    "for col in df.columns:\n",
    "    print(col)\n",
    "\n",
    "\n",
    "# or (not as nicely formatted...)\n",
    "print (list(df.columns))\n",
    "print()"
   ]
  },
  {
   "cell_type": "markdown",
   "metadata": {},
   "source": [
    "#### Need to delete a column?<br> \n",
    "Try the drop function. Samples here:\n",
    "    \n",
    "https://www.activestate.com/resources/quick-reads/how-to-delete-a-column-row-from-a-dataframe/"
   ]
  },
  {
   "cell_type": "markdown",
   "metadata": {},
   "source": [
    "#### 3. Return some simple statistics from a column"
   ]
  },
  {
   "cell_type": "code",
   "execution_count": 11,
   "metadata": {},
   "outputs": [
    {
     "name": "stdout",
     "output_type": "stream",
     "text": [
      "25.802\n",
      "35.19\n",
      "14.4\n"
     ]
    }
   ],
   "source": [
    "# Get the average precipitation for Session 1 column\n",
    "# simple\n",
    "print (str(df.mean()[\"2017_Session1\"]))\n",
    "\n"
   ]
  },
  {
   "cell_type": "code",
   "execution_count": 12,
   "metadata": {},
   "outputs": [
    {
     "name": "stdout",
     "output_type": "stream",
     "text": [
      "The mean precipitation for Session 3 is: 32.37 mm\n",
      "Max precip for Session 3: 39.71 mm\n",
      "Max precip for Session 3: 25.29 mm\n"
     ]
    }
   ],
   "source": [
    "# Get the average precipitation for Session 1 column\n",
    "# formatted and easier to update\n",
    "\n",
    "sess = \"3\"\n",
    "field = \"2017_Session\"+sess\n",
    "\n",
    "print (f\"The mean precipitation for Session {sess} is: \" + str(round(df.mean()[field], 2 ))  + \" mm\")\n",
    "\n",
    "print  (f\"Max precip for Session {sess}: \" + str(df.max()[field]) + \" mm\")\n",
    "print  (f\"Max precip for Session {sess}: \" + str(df.min()[field]) + \" mm\")"
   ]
  },
  {
   "cell_type": "code",
   "execution_count": 3,
   "metadata": {},
   "outputs": [
    {
     "data": {
      "text/html": [
       "<div>\n",
       "<style scoped>\n",
       "    .dataframe tbody tr th:only-of-type {\n",
       "        vertical-align: middle;\n",
       "    }\n",
       "\n",
       "    .dataframe tbody tr th {\n",
       "        vertical-align: top;\n",
       "    }\n",
       "\n",
       "    .dataframe thead th {\n",
       "        text-align: right;\n",
       "    }\n",
       "</style>\n",
       "<table border=\"1\" class=\"dataframe\">\n",
       "  <thead>\n",
       "    <tr style=\"text-align: right;\">\n",
       "      <th></th>\n",
       "      <th>Station</th>\n",
       "      <th>UTM_N_83</th>\n",
       "      <th>UTM_E_83</th>\n",
       "      <th>2017_Session1</th>\n",
       "      <th>2017_Session2</th>\n",
       "      <th>2017_Session3</th>\n",
       "    </tr>\n",
       "  </thead>\n",
       "  <tbody>\n",
       "    <tr>\n",
       "      <th>count</th>\n",
       "      <td>20.00000</td>\n",
       "      <td>2.000000e+01</td>\n",
       "      <td>20.000000</td>\n",
       "      <td>20.000000</td>\n",
       "      <td>20.000000</td>\n",
       "      <td>20.000000</td>\n",
       "    </tr>\n",
       "    <tr>\n",
       "      <th>mean</th>\n",
       "      <td>10.50000</td>\n",
       "      <td>4.490937e+06</td>\n",
       "      <td>449895.200000</td>\n",
       "      <td>25.802000</td>\n",
       "      <td>1.224000</td>\n",
       "      <td>32.371000</td>\n",
       "    </tr>\n",
       "    <tr>\n",
       "      <th>std</th>\n",
       "      <td>5.91608</td>\n",
       "      <td>1.231828e+02</td>\n",
       "      <td>204.373137</td>\n",
       "      <td>4.278596</td>\n",
       "      <td>0.465261</td>\n",
       "      <td>3.485165</td>\n",
       "    </tr>\n",
       "    <tr>\n",
       "      <th>min</th>\n",
       "      <td>1.00000</td>\n",
       "      <td>4.490701e+06</td>\n",
       "      <td>449565.000000</td>\n",
       "      <td>14.400000</td>\n",
       "      <td>0.440000</td>\n",
       "      <td>25.290000</td>\n",
       "    </tr>\n",
       "    <tr>\n",
       "      <th>25%</th>\n",
       "      <td>5.75000</td>\n",
       "      <td>4.490867e+06</td>\n",
       "      <td>449731.750000</td>\n",
       "      <td>23.880000</td>\n",
       "      <td>0.937500</td>\n",
       "      <td>30.732500</td>\n",
       "    </tr>\n",
       "    <tr>\n",
       "      <th>50%</th>\n",
       "      <td>10.50000</td>\n",
       "      <td>4.490938e+06</td>\n",
       "      <td>449904.500000</td>\n",
       "      <td>25.930000</td>\n",
       "      <td>1.125000</td>\n",
       "      <td>31.465000</td>\n",
       "    </tr>\n",
       "    <tr>\n",
       "      <th>75%</th>\n",
       "      <td>15.25000</td>\n",
       "      <td>4.491019e+06</td>\n",
       "      <td>450047.500000</td>\n",
       "      <td>27.360000</td>\n",
       "      <td>1.545000</td>\n",
       "      <td>33.930000</td>\n",
       "    </tr>\n",
       "    <tr>\n",
       "      <th>max</th>\n",
       "      <td>20.00000</td>\n",
       "      <td>4.491142e+06</td>\n",
       "      <td>450240.000000</td>\n",
       "      <td>35.190000</td>\n",
       "      <td>1.980000</td>\n",
       "      <td>39.710000</td>\n",
       "    </tr>\n",
       "  </tbody>\n",
       "</table>\n",
       "</div>"
      ],
      "text/plain": [
       "        Station      UTM_N_83       UTM_E_83  2017_Session1  2017_Session2  \\\n",
       "count  20.00000  2.000000e+01      20.000000      20.000000      20.000000   \n",
       "mean   10.50000  4.490937e+06  449895.200000      25.802000       1.224000   \n",
       "std     5.91608  1.231828e+02     204.373137       4.278596       0.465261   \n",
       "min     1.00000  4.490701e+06  449565.000000      14.400000       0.440000   \n",
       "25%     5.75000  4.490867e+06  449731.750000      23.880000       0.937500   \n",
       "50%    10.50000  4.490938e+06  449904.500000      25.930000       1.125000   \n",
       "75%    15.25000  4.491019e+06  450047.500000      27.360000       1.545000   \n",
       "max    20.00000  4.491142e+06  450240.000000      35.190000       1.980000   \n",
       "\n",
       "       2017_Session3  \n",
       "count      20.000000  \n",
       "mean       32.371000  \n",
       "std         3.485165  \n",
       "min        25.290000  \n",
       "25%        30.732500  \n",
       "50%        31.465000  \n",
       "75%        33.930000  \n",
       "max        39.710000  "
      ]
     },
     "execution_count": 3,
     "metadata": {},
     "output_type": "execute_result"
    }
   ],
   "source": [
    "# Retrieve stats for all columns:\n",
    "df.describe()"
   ]
  },
  {
   "cell_type": "code",
   "execution_count": 10,
   "metadata": {},
   "outputs": [
    {
     "data": {
      "text/plain": [
       "count    20.000000\n",
       "mean     25.802000\n",
       "std       4.278596\n",
       "min      14.400000\n",
       "25%      23.880000\n",
       "50%      25.930000\n",
       "75%      27.360000\n",
       "max      35.190000\n",
       "Name: 2017_Session1, dtype: float64"
      ]
     },
     "execution_count": 10,
     "metadata": {},
     "output_type": "execute_result"
    }
   ],
   "source": [
    "# Retrieve stats for just one column:\n",
    "df[\"2017_Session1\"].describe()\n",
    "\n",
    "# Field name gets passed in as a string in [ ] \n"
   ]
  },
  {
   "cell_type": "markdown",
   "metadata": {},
   "source": [
    "#### 4. Calculate the average of 3 columns' data, return into new field"
   ]
  },
  {
   "cell_type": "code",
   "execution_count": 13,
   "metadata": {},
   "outputs": [
    {
     "name": "stdout",
     "output_type": "stream",
     "text": [
      "Calculating averages.....\n",
      "New values inserted into table\n"
     ]
    }
   ],
   "source": [
    "# Calculate averages into a new field\n",
    "\n",
    "# Resources:\n",
    "# https://www.geeksforgeeks.org/create-a-new-column-in-pandas-dataframe-based-on-the-existing-columns/\n",
    "# https://pandas.pydata.org/docs/getting_started/intro_tutorials/05_add_columns.html\n",
    "\n",
    "# Create some variables for field names, using two methods\n",
    "f1 = list(df.columns)[3]\n",
    "f2 =\"2017_Session2\"\n",
    "f3 =\"2017_Session3\"\n",
    "\n",
    "try:\n",
    "    print (\"Calculating averages.....\")\n",
    "    df[\"AvgPrecip\"] = (df[f1] + df[f2] + df[f3])/ 3\n",
    "    print (\"New values inserted into table\")\n",
    "except Exception as e:\n",
    "    print(\"Error: \" + e.args[0])"
   ]
  },
  {
   "cell_type": "markdown",
   "metadata": {},
   "source": [
    "#### 5. Check that the table updated and save"
   ]
  },
  {
   "cell_type": "code",
   "execution_count": 20,
   "metadata": {},
   "outputs": [
    {
     "name": "stdout",
     "output_type": "stream",
     "text": [
      "\n",
      "The columns are now:\n",
      "Station\n",
      "UTM_N_83\n",
      "UTM_E_83\n",
      "2017_Session1\n",
      "2017_Session2\n",
      "2017_Session3\n",
      "AvgPrecip\n",
      "\n",
      "Field was created\n",
      "\n",
      "   Station  UTM_N_83  UTM_E_83  2017_Session1  2017_Session2  2017_Session3  \\\n",
      "0        1   4490823    449749          23.99           0.94          38.29   \n",
      "1        2   4490711    449820          14.40           0.54          29.82   \n",
      "2        3   4490701    449981          28.50           0.44          35.45   \n",
      "3        4   4490817    450010          22.63           1.04          33.07   \n",
      "4        5   4490897    450077          26.71           1.45          31.49   \n",
      "5        6   4490985    450041          26.98           1.00          32.53   \n",
      "6        7   4491023    450116          25.92           1.83          29.26   \n",
      "7        8   4491030    450240          23.55           0.92          27.86   \n",
      "8        9   4491142    450217          24.80           0.63          31.22   \n",
      "9       10   4491133    450067          32.03           1.41          30.95   \n",
      "\n",
      "   AvgPrecip  \n",
      "0  21.073333  \n",
      "1  14.920000  \n",
      "2  21.463333  \n",
      "3  18.913333  \n",
      "4  19.883333  \n",
      "5  20.170000  \n",
      "6  19.003333  \n",
      "7  17.443333  \n",
      "8  18.883333  \n",
      "9  21.463333  \n",
      "The updated table is saved as PrecipGaugeData_updated.csv\n"
     ]
    }
   ],
   "source": [
    "#Do we have a new column?\n",
    "print (\"\\nThe columns are now:\")\n",
    "for col in df.columns:\n",
    "    print(col)\n",
    "\n",
    "# Or check it with an if statement\n",
    "if \"AvgPrecip\" in df.columns:\n",
    "    print (\"\\nField was created\")\n",
    "else:\n",
    "    print (\"\\nField was not created\")\n",
    "\n",
    "\n",
    "    \n",
    "# Return data again with df.head()\n",
    "print ()\n",
    "print(df.head(10))\n",
    "\n",
    "# All this is done in memory in the data frame. It must be exported to a new CSV.\n",
    "\n",
    "newfile = file[:-4]+ \"_updated.csv\"\n",
    "print (\"The updated table is saved as \"+ newfile)\n",
    "#df.to_csv(os.path.join(path,newfile))"
   ]
  },
  {
   "cell_type": "markdown",
   "metadata": {},
   "source": [
    "### Pandas resources:\n",
    "There is no shortage of resources and sample code out there. Here are a few to get you going:\n",
    "* pandas documentation: https://pandas.pydata.org/docs/index.html\n",
    "* Videos: https://www.youtube.com/playlist?list=PL-osiE80TeTsWmV9i9c58mdDCSskIFdDS\n",
    "* Tutorials and guides: https://www.w3resource.com/pandas/index.php"
   ]
  },
  {
   "cell_type": "markdown",
   "metadata": {},
   "source": [
    "### The end.  Thanks for watching, and happy coding!"
   ]
  }
 ],
 "metadata": {
  "esriNotebookRuntime": {
   "notebookRuntimeName": "ArcGIS Notebook Python 3 Standard",
   "notebookRuntimeVersion": "4.0"
  },
  "kernelspec": {
   "display_name": "Python 3",
   "language": "python",
   "name": "python3"
  },
  "language_info": {
   "codemirror_mode": {
    "name": "ipython",
    "version": 3
   },
   "file_extension": ".py",
   "mimetype": "text/x-python",
   "name": "python",
   "nbconvert_exporter": "python",
   "pygments_lexer": "ipython3",
   "version": "3.6.7"
  }
 },
 "nbformat": 4,
 "nbformat_minor": 2
}
